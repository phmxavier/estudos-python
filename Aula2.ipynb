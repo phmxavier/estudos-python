{
 "cells": [
  {
   "cell_type": "markdown",
   "metadata": {},
   "source": [
    "## Criando e Usando Funções"
   ]
  },
  {
   "cell_type": "code",
   "execution_count": 1,
   "metadata": {},
   "outputs": [
    {
     "name": "stdout",
     "output_type": "stream",
     "text": [
      "Olá, Alice!\n"
     ]
    }
   ],
   "source": [
    "def saudacao(nome):\n",
    "    print(f\"Olá, {nome}!\")\n",
    "\n",
    "saudacao(\"Alice\")  # Chamada da função\n"
   ]
  },
  {
   "cell_type": "code",
   "execution_count": 2,
   "metadata": {},
   "outputs": [
    {
     "name": "stdout",
     "output_type": "stream",
     "text": [
      "8\n"
     ]
    }
   ],
   "source": [
    "def soma(a, b):\n",
    "    return a + b\n",
    "\n",
    "resultado = soma(5, 3)\n",
    "print(resultado)  # Saída: 8"
   ]
  },
  {
   "cell_type": "code",
   "execution_count": 3,
   "metadata": {},
   "outputs": [
    {
     "name": "stdout",
     "output_type": "stream",
     "text": [
      "Nome: Carlos, Idade: 18\n",
      "Nome: Ana, Idade: 25\n"
     ]
    }
   ],
   "source": [
    "def apresentar(nome, idade=18):\n",
    "    print(f\"Nome: {nome}, Idade: {idade}\")\n",
    "\n",
    "apresentar(\"Carlos\")  # Usa a idade padrão (18)\n",
    "apresentar(\"Ana\", 25)  # Substitui a idade padrão"
   ]
  },
  {
   "cell_type": "code",
   "execution_count": 4,
   "metadata": {},
   "outputs": [
    {
     "name": "stdout",
     "output_type": "stream",
     "text": [
      "16\n"
     ]
    }
   ],
   "source": [
    "quadrado = lambda x: x ** 2\n",
    "print(quadrado(4))  # Saída: 16"
   ]
  },
  {
   "cell_type": "markdown",
   "metadata": {},
   "source": [
    "## Trabalhando com Listas"
   ]
  },
  {
   "cell_type": "code",
   "execution_count": 5,
   "metadata": {},
   "outputs": [
    {
     "name": "stdout",
     "output_type": "stream",
     "text": [
      "maçã\n",
      "['maçã', 'uva', 'laranja']\n"
     ]
    }
   ],
   "source": [
    "frutas = [\"maçã\", \"banana\", \"uva\"]\n",
    "print(frutas[0])  # Acessando o primeiro elemento\n",
    "frutas.append(\"laranja\")  # Adicionando um item\n",
    "frutas.remove(\"banana\")  # Removendo um item\n",
    "print(frutas)"
   ]
  },
  {
   "cell_type": "code",
   "execution_count": 6,
   "metadata": {},
   "outputs": [
    {
     "name": "stdout",
     "output_type": "stream",
     "text": [
      "maçã\n",
      "uva\n",
      "laranja\n"
     ]
    }
   ],
   "source": [
    "for fruta in frutas:\n",
    "    print(fruta)"
   ]
  },
  {
   "cell_type": "code",
   "execution_count": 8,
   "metadata": {},
   "outputs": [
    {
     "name": "stdout",
     "output_type": "stream",
     "text": [
      "[0, 2, 4, 6, 8]\n"
     ]
    }
   ],
   "source": [
    "numeros = [x for x in range(10) if x % 2 == 0]\n",
    "print(numeros)  # [0, 2, 4, 6, 8]"
   ]
  },
  {
   "cell_type": "markdown",
   "metadata": {},
   "source": [
    "## Tuplas, Sets e Dicionários"
   ]
  },
  {
   "cell_type": "code",
   "execution_count": 9,
   "metadata": {},
   "outputs": [
    {
     "name": "stdout",
     "output_type": "stream",
     "text": [
      "azul\n"
     ]
    }
   ],
   "source": [
    "cores = (\"vermelho\", \"azul\", \"verde\")\n",
    "print(cores[1])  # Acessa um item"
   ]
  },
  {
   "cell_type": "code",
   "execution_count": 10,
   "metadata": {},
   "outputs": [
    {
     "name": "stdout",
     "output_type": "stream",
     "text": [
      "{1, 2, 3}\n"
     ]
    }
   ],
   "source": [
    "numeros = {1, 2, 3, 3, 2}\n",
    "print(numeros)  # Saída: {1, 2, 3}"
   ]
  },
  {
   "cell_type": "code",
   "execution_count": 11,
   "metadata": {},
   "outputs": [
    {
     "name": "stdout",
     "output_type": "stream",
     "text": [
      "João\n",
      "{'nome': 'João', 'idade': 20, 'curso': 'Python', 'nota': 9.5}\n"
     ]
    }
   ],
   "source": [
    "aluno = {\"nome\": \"João\", \"idade\": 20, \"curso\": \"Python\"}\n",
    "print(aluno[\"nome\"])  # Saída: João\n",
    "aluno[\"nota\"] = 9.5  # Adicionando uma nova chave\n",
    "print(aluno)"
   ]
  },
  {
   "cell_type": "markdown",
   "metadata": {},
   "source": [
    "## 1️⃣ Crie uma função que recebe dois números e retorna a multiplicação deles."
   ]
  },
  {
   "cell_type": "code",
   "execution_count": 13,
   "metadata": {},
   "outputs": [
    {
     "data": {
      "text/plain": [
       "6"
      ]
     },
     "execution_count": 13,
     "metadata": {},
     "output_type": "execute_result"
    }
   ],
   "source": [
    "def multiplicacao(a,b):\n",
    "    return a * b\n",
    "multiplicacao(2,3) "
   ]
  },
  {
   "cell_type": "markdown",
   "metadata": {},
   "source": [
    "## 2️⃣ Crie uma lista com 5 nomes e use um for para exibi-los."
   ]
  },
  {
   "cell_type": "code",
   "execution_count": 14,
   "metadata": {},
   "outputs": [
    {
     "name": "stdout",
     "output_type": "stream",
     "text": [
      "Pedro\n",
      "João\n",
      "Maria\n",
      "Polly\n",
      "Daniel\n"
     ]
    }
   ],
   "source": [
    "lista = [\"Pedro\", \"João\", \"Maria\", \"Polly\", \"Daniel\"]\n",
    "for nome in lista:\n",
    "    print(nome)"
   ]
  },
  {
   "cell_type": "markdown",
   "metadata": {},
   "source": [
    "## 3️⃣ Crie um dicionário para armazenar nome, idade e profissão de uma pessoa e exiba os valores."
   ]
  },
  {
   "cell_type": "code",
   "execution_count": 15,
   "metadata": {},
   "outputs": [
    {
     "name": "stdout",
     "output_type": "stream",
     "text": [
      "nome: Pedro\n",
      "idade: 25\n",
      "curso: Python\n"
     ]
    }
   ],
   "source": [
    "dict = {\"nome\": \"Pedro\", \"idade\": 25, \"curso\": \"Python\"}\n",
    "for chave, valor in dict.items():\n",
    "    print(f\"{chave}: {valor}\")"
   ]
  },
  {
   "cell_type": "markdown",
   "metadata": {},
   "source": [
    "## Crie um gerador de senhas aleatórias em Python!\n",
    "\n",
    "* O usuário informa o tamanho da senha.\n",
    "* O programa gera uma senha com letras, números e símbolos.\n",
    "\n",
    "Dica: use import random e a biblioteca string."
   ]
  },
  {
   "cell_type": "code",
   "execution_count": 27,
   "metadata": {},
   "outputs": [
    {
     "name": "stdout",
     "output_type": "stream",
     "text": [
      "34@pA-FQUBC-NGt@6-cRF%$\n"
     ]
    }
   ],
   "source": [
    "import random\n",
    "import string\n",
    "\n",
    "def gerar_senha(n):\n",
    "    caracteres = string.ascii_letters + string.digits + ''.join([c for c in string.punctuation if c not in \"!#'()*+,-./:;<=>?[\\\\]^_`{|}~\\\"\"])\n",
    "    senha = ''.join(random.choice(caracteres) for i in range(n))\n",
    "    senha = '-'.join(senha[i:i+5] for i in range(0, len(senha), 5))\n",
    "    return senha\n",
    "\n",
    "tamanho = int(input(\"Digite o tamanho da senha: \"))\n",
    "print(gerar_senha(tamanho))"
   ]
  }
 ],
 "metadata": {
  "kernelspec": {
   "display_name": "Python 3",
   "language": "python",
   "name": "python3"
  },
  "language_info": {
   "codemirror_mode": {
    "name": "ipython",
    "version": 3
   },
   "file_extension": ".py",
   "mimetype": "text/x-python",
   "name": "python",
   "nbconvert_exporter": "python",
   "pygments_lexer": "ipython3",
   "version": "3.12.8"
  }
 },
 "nbformat": 4,
 "nbformat_minor": 2
}
