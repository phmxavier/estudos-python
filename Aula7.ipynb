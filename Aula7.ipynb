{
 "cells": [
  {
   "cell_type": "markdown",
   "metadata": {},
   "source": [
    "# 1️⃣ Introdução ao NumPy\n",
    "O NumPy é uma biblioteca essencial para quem trabalha com dados numéricos em Python. Ele fornece suporte a arrays multidimensionais, que são mais rápidos e eficientes que as listas nativas do Python.\n",
    "\n",
    "### Instalando o NumPy:"
   ]
  },
  {
   "cell_type": "code",
   "execution_count": 1,
   "metadata": {},
   "outputs": [
    {
     "name": "stdout",
     "output_type": "stream",
     "text": [
      "Defaulting to user installation because normal site-packages is not writeable\n",
      "Requirement already satisfied: numpy in /home/vscode/.local/lib/python3.12/site-packages (2.2.3)\n",
      "\n",
      "\u001b[1m[\u001b[0m\u001b[34;49mnotice\u001b[0m\u001b[1;39;49m]\u001b[0m\u001b[39;49m A new release of pip is available: \u001b[0m\u001b[31;49m24.3.1\u001b[0m\u001b[39;49m -> \u001b[0m\u001b[32;49m25.0.1\u001b[0m\n",
      "\u001b[1m[\u001b[0m\u001b[34;49mnotice\u001b[0m\u001b[1;39;49m]\u001b[0m\u001b[39;49m To update, run: \u001b[0m\u001b[32;49mpip install --upgrade pip\u001b[0m\n",
      "Note: you may need to restart the kernel to use updated packages.\n"
     ]
    }
   ],
   "source": [
    "pip install numpy"
   ]
  },
  {
   "cell_type": "markdown",
   "metadata": {},
   "source": [
    "### Criando Arrays com NumPy:"
   ]
  },
  {
   "cell_type": "code",
   "execution_count": null,
   "metadata": {},
   "outputs": [
    {
     "name": "stdout",
     "output_type": "stream",
     "text": [
      "[1 2 3 4 5]\n",
      "[[1 2 3]\n",
      " [4 5 6]]\n",
      "3\n"
     ]
    }
   ],
   "source": [
    "import numpy as np\n",
    "\n",
    "# Criando um array unidimensional\n",
    "arr_1d = np.array([1, 2, 3, 4, 5])\n",
    "print(arr_1d)\n",
    "\n",
    "# Criando um array bidimensional (matriz)\n",
    "arr_2d = np.array([[1, 2, 3], [4, 5, 6]])\n",
    "print(arr_2d)\n",
    "\n",
    "# Acessando elementos\n",
    "print(arr_2d[1, 2])  # Acessando o elemento da linha 1, coluna 2 (Ambos com base 0)"
   ]
  },
  {
   "cell_type": "markdown",
   "metadata": {},
   "source": [
    "### Operações com arrays"
   ]
  },
  {
   "cell_type": "code",
   "execution_count": 5,
   "metadata": {},
   "outputs": [
    {
     "name": "stdout",
     "output_type": "stream",
     "text": [
      "[3 4 5 6 7]\n",
      "[[ 2  4  6]\n",
      " [ 8 10 12]]\n"
     ]
    }
   ],
   "source": [
    "# Somar um valor a todos os elementos do array\n",
    "arr_1d += 2\n",
    "print(arr_1d)\n",
    "\n",
    "# Multiplicar arrays (operar elemento por elemento)\n",
    "arr_2d = arr_2d * 2\n",
    "print(arr_2d)"
   ]
  },
  {
   "cell_type": "markdown",
   "metadata": {},
   "source": [
    "# 2️⃣ Introdução ao Pandas\n",
    "O Pandas é uma biblioteca que fornece estruturas de dados DataFrame e Series, que são extremamente úteis para manipulação de dados em tabelas.\n",
    "\n",
    "### Instalando o Pandas:"
   ]
  },
  {
   "cell_type": "code",
   "execution_count": 6,
   "metadata": {},
   "outputs": [
    {
     "name": "stdout",
     "output_type": "stream",
     "text": [
      "Defaulting to user installation because normal site-packages is not writeable\n",
      "Collecting pandas\n",
      "  Downloading pandas-2.2.3-cp312-cp312-manylinux2014_aarch64.manylinux_2_17_aarch64.whl.metadata (89 kB)\n",
      "Requirement already satisfied: numpy>=1.26.0 in /home/vscode/.local/lib/python3.12/site-packages (from pandas) (2.2.3)\n",
      "Requirement already satisfied: python-dateutil>=2.8.2 in /home/vscode/.local/lib/python3.12/site-packages (from pandas) (2.9.0.post0)\n",
      "Collecting pytz>=2020.1 (from pandas)\n",
      "  Downloading pytz-2025.1-py2.py3-none-any.whl.metadata (22 kB)\n",
      "Collecting tzdata>=2022.7 (from pandas)\n",
      "  Downloading tzdata-2025.1-py2.py3-none-any.whl.metadata (1.4 kB)\n",
      "Requirement already satisfied: six>=1.5 in /home/vscode/.local/lib/python3.12/site-packages (from python-dateutil>=2.8.2->pandas) (1.17.0)\n",
      "Downloading pandas-2.2.3-cp312-cp312-manylinux2014_aarch64.manylinux_2_17_aarch64.whl (15.2 MB)\n",
      "\u001b[2K   \u001b[90m━━━━━━━━━━━━━━━━━━━━━━━━━━━━━━━━━━━━━━━━\u001b[0m \u001b[32m15.2/15.2 MB\u001b[0m \u001b[31m5.3 MB/s\u001b[0m eta \u001b[36m0:00:00\u001b[0ma \u001b[36m0:00:01\u001b[0m\n",
      "\u001b[?25hDownloading pytz-2025.1-py2.py3-none-any.whl (507 kB)\n",
      "Downloading tzdata-2025.1-py2.py3-none-any.whl (346 kB)\n",
      "Installing collected packages: pytz, tzdata, pandas\n",
      "Successfully installed pandas-2.2.3 pytz-2025.1 tzdata-2025.1\n",
      "\n",
      "\u001b[1m[\u001b[0m\u001b[34;49mnotice\u001b[0m\u001b[1;39;49m]\u001b[0m\u001b[39;49m A new release of pip is available: \u001b[0m\u001b[31;49m24.3.1\u001b[0m\u001b[39;49m -> \u001b[0m\u001b[32;49m25.0.1\u001b[0m\n",
      "\u001b[1m[\u001b[0m\u001b[34;49mnotice\u001b[0m\u001b[1;39;49m]\u001b[0m\u001b[39;49m To update, run: \u001b[0m\u001b[32;49mpip install --upgrade pip\u001b[0m\n",
      "Note: you may need to restart the kernel to use updated packages.\n"
     ]
    }
   ],
   "source": [
    "pip install pandas"
   ]
  },
  {
   "cell_type": "markdown",
   "metadata": {},
   "source": [
    "### Criando um dataframe com Pandas"
   ]
  },
  {
   "cell_type": "code",
   "execution_count": 7,
   "metadata": {},
   "outputs": [
    {
     "name": "stdout",
     "output_type": "stream",
     "text": [
      "     Nome  Idade          Cidade\n",
      "0     Ana     23       São Paulo\n",
      "1    Beto     34  Rio de Janeiro\n",
      "2  Carlos     28  Belo Horizonte\n"
     ]
    }
   ],
   "source": [
    "import pandas as pd\n",
    "\n",
    "# Criando um DataFrame a partir de um dicionário\n",
    "dados = {\n",
    "    'Nome': ['Ana', 'Beto', 'Carlos'],\n",
    "    'Idade': [23, 34, 28],\n",
    "    'Cidade': ['São Paulo', 'Rio de Janeiro', 'Belo Horizonte']\n",
    "}\n",
    "\n",
    "df = pd.DataFrame(dados)\n",
    "print(df)"
   ]
  },
  {
   "cell_type": "markdown",
   "metadata": {},
   "source": [
    "### Trabalhando com Series"
   ]
  },
  {
   "cell_type": "code",
   "execution_count": 8,
   "metadata": {},
   "outputs": [
    {
     "name": "stdout",
     "output_type": "stream",
     "text": [
      "0    10\n",
      "1    20\n",
      "2    30\n",
      "3    40\n",
      "dtype: int64\n"
     ]
    }
   ],
   "source": [
    "# Criando uma Series (uma coluna de dados)\n",
    "series = pd.Series([10, 20, 30, 40])\n",
    "print(series)"
   ]
  },
  {
   "cell_type": "markdown",
   "metadata": {},
   "source": [
    "# 3️⃣ Limpeza e Transformação de Dados\n",
    "Uma parte essencial da ciência de dados é limpar e transformar os dados. O Pandas oferece muitas ferramentas para isso, como:\n",
    "\n",
    "### Filtrando Dados:"
   ]
  },
  {
   "cell_type": "code",
   "execution_count": 12,
   "metadata": {},
   "outputs": [
    {
     "name": "stdout",
     "output_type": "stream",
     "text": [
      "0       Ana\n",
      "1      Beto\n",
      "2    Carlos\n",
      "Name: Nome, dtype: object\n",
      "     Nome  Idade          Cidade\n",
      "1    Beto     34  Rio de Janeiro\n",
      "2  Carlos     28  Belo Horizonte\n"
     ]
    }
   ],
   "source": [
    "# Selecionando colunas\n",
    "print(df['Nome'])\n",
    "\n",
    "# Filtrando com condições\n",
    "print(df[df['Idade'] > 25])"
   ]
  },
  {
   "cell_type": "markdown",
   "metadata": {},
   "source": [
    "### Tratamento de dados faltantes"
   ]
  },
  {
   "cell_type": "code",
   "execution_count": 13,
   "metadata": {},
   "outputs": [
    {
     "name": "stdout",
     "output_type": "stream",
     "text": [
      "     Nome  Idade          Cidade  Salario\n",
      "0     Ana     23       São Paulo   3000.0\n",
      "1    Beto     34  Rio de Janeiro   2750.0\n",
      "2  Carlos     28  Belo Horizonte   2500.0\n"
     ]
    }
   ],
   "source": [
    "# Criando dados faltantes\n",
    "df['Salario'] = [3000, None, 2500]\n",
    "\n",
    "# Substituindo valores faltantes por média\n",
    "df['Salario'] = df['Salario'].fillna(df['Salario'].mean())\n",
    "print(df)"
   ]
  },
  {
   "cell_type": "markdown",
   "metadata": {},
   "source": [
    "### Transformando dados"
   ]
  },
  {
   "cell_type": "code",
   "execution_count": 18,
   "metadata": {},
   "outputs": [
    {
     "name": "stdout",
     "output_type": "stream",
     "text": [
      "     Nome  Idade          Cidade  Salario  Idade_meses\n",
      "0     Ana     23       São Paulo   3000.0          276\n",
      "1    Beto     34  Rio de Janeiro   2750.0          408\n",
      "2  Carlos     28  Belo Horizonte   2500.0          336\n"
     ]
    }
   ],
   "source": [
    "# Adicionando uma nova coluna com valores transformados\n",
    "df['Idade_meses'] = df['Idade'] * 12\n",
    "print(df)"
   ]
  },
  {
   "cell_type": "markdown",
   "metadata": {},
   "source": [
    "# 📈 Desafio da Aula:\n",
    "1️⃣ Crie um DataFrame a partir de um conjunto de dados real (como uma planilha de vendas ou dados de clientes)."
   ]
  },
  {
   "cell_type": "code",
   "execution_count": 40,
   "metadata": {},
   "outputs": [
    {
     "name": "stdout",
     "output_type": "stream",
     "text": [
      "head()\n",
      "   ID_Venda        Data          Cliente         Produto  Quantidade  \\\n",
      "0         1  2024-06-15       João Silva      Smartphone           2   \n",
      "1         2  2024-07-20   Maria Oliveira        Notebook           1   \n",
      "2         3  2024-08-05     Pedro Santos          Tablet           3   \n",
      "3         4  2024-09-10        Ana Souza      Impressora           1   \n",
      "4         5  2024-10-25  Ricardo Pereira  Fone de Ouvido           5   \n",
      "\n",
      "   Preço_Unitário  Total_Venda        Região  \n",
      "0            1200         2400       Sudeste  \n",
      "1            2500         2500           Sul  \n",
      "2             800         2400      Nordeste  \n",
      "3             500          500  Centro-Oeste  \n",
      "4             100          500       Sudeste  \n",
      "info()\n",
      "<class 'pandas.core.frame.DataFrame'>\n",
      "RangeIndex: 20 entries, 0 to 19\n",
      "Data columns (total 8 columns):\n",
      " #   Column          Non-Null Count  Dtype \n",
      "---  ------          --------------  ----- \n",
      " 0   ID_Venda        20 non-null     int64 \n",
      " 1   Data            20 non-null     object\n",
      " 2   Cliente         20 non-null     object\n",
      " 3   Produto         20 non-null     object\n",
      " 4   Quantidade      20 non-null     int64 \n",
      " 5   Preço_Unitário  20 non-null     int64 \n",
      " 6   Total_Venda     20 non-null     int64 \n",
      " 7   Região          20 non-null     object\n",
      "dtypes: int64(4), object(4)\n",
      "memory usage: 1.4+ KB\n",
      "None\n",
      "describe()\n",
      "       ID_Venda  Quantidade  Preço_Unitário  Total_Venda\n",
      "count  20.00000   20.000000       20.000000    20.000000\n",
      "mean   10.50000    2.000000      439.500000   662.000000\n",
      "std     5.91608    1.169795      582.693157   790.666607\n",
      "min     1.00000    1.000000       30.000000    60.000000\n",
      "25%     5.75000    1.000000       87.500000   195.000000\n",
      "50%    10.50000    2.000000      225.000000   375.000000\n",
      "75%    15.25000    3.000000      525.000000   600.000000\n",
      "max    20.00000    5.000000     2500.000000  2500.000000\n",
      "    ID_Venda        Data           Cliente                Produto  Quantidade  \\\n",
      "0          1  2024-06-15        João Silva             Smartphone           2   \n",
      "4          5  2024-10-25   Ricardo Pereira         Fone de Ouvido           5   \n",
      "8          9  2025-02-05    Gabriel Mendes           Caixa de Som           3   \n",
      "12        13  2024-09-15       Bruno Gomes               Roteador           1   \n",
      "16        17  2025-01-25  Rafael Rodrigues  Suporte para Notebook           2   \n",
      "\n",
      "    Preço_Unitário  Total_Venda   Região  \n",
      "0             1200         2400  Sudeste  \n",
      "4              100          500  Sudeste  \n",
      "8              150          450  Sudeste  \n",
      "12             600          600  Sudeste  \n",
      "16              70          140  Sudeste  \n",
      "Cliente\n",
      "Amanda Rocha          900\n",
      "Ana Souza             500\n",
      "Bruno Gomes           600\n",
      "Camila Alves          320\n",
      "Fernando Costa        200\n",
      "Gabriel Mendes        450\n",
      "Isabela Nunes         350\n",
      "João Silva           2400\n",
      "Juliana Lima          100\n",
      "Larissa Barbosa       600\n",
      "Letícia Barros        250\n",
      "Lucas Ribeiro         400\n",
      "Maria Oliveira       2500\n",
      "Mariana Ferreira      180\n",
      "Patrícia Carvalho      60\n",
      "Pedro Santos         2400\n",
      "Rafael Rodrigues      140\n",
      "Ricardo Pereira       500\n",
      "Thiago Castro         270\n",
      "Vinícius Melo         120\n",
      "Name: Total_Venda, dtype: int64\n"
     ]
    }
   ],
   "source": [
    "# Ler a planilha\n",
    "df = pd.read_csv(\"files/vendas_pandas.csv\")\n",
    "\n",
    "# Visualizar as primeiras linhas\n",
    "print(\"head()\")\n",
    "print(df.head())\n",
    "\n",
    "# Informações sobre o DataFrame\n",
    "print(\"info()\")\n",
    "print(df.info())\n",
    "\n",
    "# Estatísticas descritivas\n",
    "print(\"describe()\")\n",
    "print(df.describe())\n",
    "\n",
    "# Filtrar vendas por região\n",
    "vendas_sudeste = df[df[\"Região\"] == \"Sudeste\"]\n",
    "print(vendas_sudeste)\n",
    "\n",
    "# Calcular o total de vendas por cliente\n",
    "total_vendas_cliente = df.groupby(\"Cliente\")[\"Total_Venda\"].sum()\n",
    "print(total_vendas_cliente)"
   ]
  },
  {
   "cell_type": "markdown",
   "metadata": {},
   "source": [
    "2️⃣ Realize operações de limpeza, como tratar valores faltantes e filtrar dados."
   ]
  },
  {
   "cell_type": "code",
   "execution_count": 37,
   "metadata": {
    "vscode": {
     "languageId": "ruby"
    }
   },
   "outputs": [
    {
     "name": "stdout",
     "output_type": "stream",
     "text": [
      "662.0\n",
      "    ID_Venda        Data          Cliente         Produto  Quantidade  \\\n",
      "3          4  2023-10-03        Ana Souza      Impressora           1   \n",
      "4          5  2023-10-04  Ricardo Pereira  Fone de Ouvido           5   \n",
      "7          8  2023-10-07     Amanda Rocha         Monitor           1   \n",
      "8          9  2023-10-08   Gabriel Mendes    Caixa de Som           3   \n",
      "9         10  2023-10-09  Larissa Barbosa          Webcam           2   \n",
      "12        13  2023-10-12      Bruno Gomes        Roteador           1   \n",
      "\n",
      "    Preço_Unitário  Total_Venda        Região  \n",
      "3              500          500  Centro-Oeste  \n",
      "4              100          500       Sudeste  \n",
      "7              900          900  Centro-Oeste  \n",
      "8              150          450       Sudeste  \n",
      "9              300          600           Sul  \n",
      "12             600          600       Sudeste  \n"
     ]
    }
   ],
   "source": [
    "media_vendas = total_vendas_cliente.mean()\n",
    "print(media_vendas)\n",
    "desvio_aceitavel = 250\n",
    "\n",
    "# Filtrar clientes cujas vendas estão dentro de um desvio padrão da média\n",
    "clientes_filtrados = total_vendas_cliente[(total_vendas_cliente > media_vendas - desvio_aceitavel) & (total_vendas_cliente < media_vendas + desvio_aceitavel)]\n",
    "\n",
    "# Criar um DataFrame com os clientes filtrados\n",
    "df_clientes_filtrados = df[df['Cliente'].isin(clientes_filtrados.index)]\n",
    "print(df_clientes_filtrados)"
   ]
  },
  {
   "cell_type": "markdown",
   "metadata": {},
   "source": [
    "3️⃣ Experimente transformações e adicione novas colunas com base em cálculos."
   ]
  },
  {
   "cell_type": "code",
   "execution_count": 42,
   "metadata": {},
   "outputs": [
    {
     "name": "stdout",
     "output_type": "stream",
     "text": [
      "              Cliente  Dias_desde_ultima_compra  Total_gasto\n",
      "1           Ana Souza                       180          500\n",
      "2         Bruno Gomes                       175          600\n",
      "3        Camila Alves                       191          320\n",
      "6       Isabela Nunes                       237          350\n",
      "7          João Silva                       267         2400\n",
      "8        Juliana Lima                        99          100\n",
      "9     Larissa Barbosa                       272          600\n",
      "11      Lucas Ribeiro                       227          400\n",
      "12     Maria Oliveira                       232         2500\n",
      "14  Patrícia Carvalho                       140           60\n",
      "15       Pedro Santos                       216         2400\n",
      "17    Ricardo Pereira                       135          500\n",
      "18      Thiago Castro                       262          270\n",
      "19      Vinícius Melo                       124          120\n"
     ]
    }
   ],
   "source": [
    "from datetime import datetime\n",
    "\n",
    "# Converter a coluna 'Data' para datetime\n",
    "df['Data'] = pd.to_datetime(df['Data'])\n",
    "\n",
    "# Calcular o tempo desde a última compra\n",
    "df['Dias_desde_ultima_compra'] = (datetime.now() - df['Data']).dt.days\n",
    "\n",
    "# Agrupar por cliente e calcular o valor total gasto e o tempo desde a última compra\n",
    "df_agrupado = df.groupby('Cliente').agg({\n",
    "    'Dias_desde_ultima_compra': 'min',\n",
    "    'Total_Venda': 'sum'\n",
    "}).reset_index()\n",
    "\n",
    "# Renomear as colunas\n",
    "df_agrupado.columns = ['Cliente', 'Dias_desde_ultima_compra', 'Total_gasto']\n",
    "df_compradores_antigos = df_agrupado[df_agrupado['Dias_desde_ultima_compra'] > 90]\n",
    "print(df_compradores_antigos)"
   ]
  }
 ],
 "metadata": {
  "kernelspec": {
   "display_name": "Python 3",
   "language": "python",
   "name": "python3"
  },
  "language_info": {
   "codemirror_mode": {
    "name": "ipython",
    "version": 3
   },
   "file_extension": ".py",
   "mimetype": "text/x-python",
   "name": "python",
   "nbconvert_exporter": "python",
   "pygments_lexer": "ipython3",
   "version": "3.12.8"
  }
 },
 "nbformat": 4,
 "nbformat_minor": 2
}
