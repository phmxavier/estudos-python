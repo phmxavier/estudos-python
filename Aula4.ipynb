{
 "cells": [
  {
   "cell_type": "markdown",
   "metadata": {},
   "source": [
    "## Manipulação de arquivos"
   ]
  },
  {
   "cell_type": "code",
   "execution_count": 2,
   "metadata": {},
   "outputs": [
    {
     "name": "stdout",
     "output_type": "stream",
     "text": [
      "Arquivo teste\n",
      "com mais de uma linha\n"
     ]
    }
   ],
   "source": [
    "with open(\"files/exemplo1.txt\", \"r\") as arquivo:\n",
    "    conteudo = arquivo.read()\n",
    "    print(conteudo)  # O arquivo é fechado automaticamente"
   ]
  },
  {
   "cell_type": "code",
   "execution_count": 5,
   "metadata": {},
   "outputs": [],
   "source": [
    "with open(\"files/novo.txt\", \"w\") as arquivo:\n",
    "    arquivo.write(\"Olá, este é um novo arquivo!\")"
   ]
  },
  {
   "cell_type": "code",
   "execution_count": 8,
   "metadata": {},
   "outputs": [],
   "source": [
    "with open(\"files/novo.txt\", \"a\") as arquivo:\n",
    "    arquivo.write(\"\\nNova linha adicionada.\")\n"
   ]
  },
  {
   "cell_type": "code",
   "execution_count": 9,
   "metadata": {},
   "outputs": [
    {
     "name": "stdout",
     "output_type": "stream",
     "text": [
      "['Olá, este é um novo arquivo!\\n', 'Nova linha adicionada.\\n', 'Nova linha adicionada.']\n"
     ]
    }
   ],
   "source": [
    "with open(\"files/novo.txt\", \"r\") as arquivo:\n",
    "    conteudo = arquivo.readlines()\n",
    "    print(conteudo)"
   ]
  },
  {
   "cell_type": "markdown",
   "metadata": {},
   "source": [
    "## Lidando com Arquivos JSON"
   ]
  },
  {
   "cell_type": "code",
   "execution_count": 11,
   "metadata": {},
   "outputs": [],
   "source": [
    "import json\n",
    "\n",
    "dados = {\"nome\": \"Alice\", \"idade\": 25, \"cidade\": \"São Paulo\"}\n",
    "\n",
    "with open(\"files/dados.json\", \"w\") as arquivo:\n",
    "    json.dump(dados, arquivo, indent=4)"
   ]
  },
  {
   "cell_type": "code",
   "execution_count": 12,
   "metadata": {},
   "outputs": [
    {
     "name": "stdout",
     "output_type": "stream",
     "text": [
      "Alice\n"
     ]
    }
   ],
   "source": [
    "with open(\"files/dados.json\", \"r\") as arquivo:\n",
    "    dados = json.load(arquivo)\n",
    "    print(dados[\"nome\"])  # Saída: Alice\n"
   ]
  },
  {
   "cell_type": "markdown",
   "metadata": {},
   "source": [
    "## Tratamento de Erros e Exceções"
   ]
  },
  {
   "cell_type": "code",
   "execution_count": 20,
   "metadata": {},
   "outputs": [
    {
     "name": "stdout",
     "output_type": "stream",
     "text": [
      "Erro: Você deve digitar um número inteiro!\n",
      "Fim da execução.\n"
     ]
    }
   ],
   "source": [
    "try:\n",
    "    numero = int(input(\"Digite um número: \"))\n",
    "    print(10 / numero)\n",
    "except ValueError:\n",
    "    print(\"Erro: Você deve digitar um número inteiro!\")\n",
    "except ZeroDivisionError:\n",
    "    print(\"Erro: Não é possível dividir por zero!\")\n",
    "finally:\n",
    "    print(\"Fim da execução.\")  # Sempre será executado"
   ]
  },
  {
   "cell_type": "code",
   "execution_count": 21,
   "metadata": {},
   "outputs": [
    {
     "name": "stdout",
     "output_type": "stream",
     "text": [
      "Erro: Saldo insuficiente para o saque.\n"
     ]
    }
   ],
   "source": [
    "class SaldoInsuficienteError(Exception):\n",
    "    pass\n",
    "\n",
    "def sacar(valor, saldo):\n",
    "    if valor > saldo:\n",
    "        raise SaldoInsuficienteError(\"Saldo insuficiente para o saque.\")\n",
    "    saldo -= valor\n",
    "    return saldo\n",
    "\n",
    "try:\n",
    "    saldo = sacar(200, 150)\n",
    "except SaldoInsuficienteError as e:\n",
    "    print(f\"Erro: {e}\")"
   ]
  },
  {
   "cell_type": "markdown",
   "metadata": {},
   "source": [
    "1️⃣ Crie um programa que leia um arquivo .txt e exiba seu conteúdo."
   ]
  },
  {
   "cell_type": "code",
   "execution_count": 23,
   "metadata": {},
   "outputs": [
    {
     "name": "stdout",
     "output_type": "stream",
     "text": [
      "Arquivo do exercício\n",
      "\n",
      "com várias\n",
      "\n",
      "linhas\n"
     ]
    }
   ],
   "source": [
    "with open(\"files/exemplo2.txt\", \"r\") as arquivo:\n",
    "    for linha in arquivo:\n",
    "        print(linha)"
   ]
  },
  {
   "cell_type": "markdown",
   "metadata": {},
   "source": [
    "2️⃣ Escreva um dicionário em um arquivo JSON e depois leia seus dados."
   ]
  },
  {
   "cell_type": "code",
   "execution_count": 32,
   "metadata": {},
   "outputs": [
    {
     "name": "stdout",
     "output_type": "stream",
     "text": [
      "{'system': {'name': 'MySystem', 'version': '1.0.0', 'author': 'Your Name', 'license': 'MIT'}, 'settings': {'theme': 'dark', 'language': 'en-US', 'autoUpdate': True}, 'network': {'hostname': 'localhost', 'port': 8082, 'protocol': 'http'}, 'database': {'type': 'sqlite', 'name': 'mydatabase.db', 'user': 'admin', 'password': 'password123'}, 'logging': {'level': 'info', 'file': '/var/log/mysystem.log'}}\n",
      "1.0.0\n",
      "8082\n"
     ]
    }
   ],
   "source": [
    "with open(\"files/dicionario.json\", \"r\") as arquivo:\n",
    "    dicionario = json.load(arquivo)\n",
    "    print(dicionario)\n",
    "    print(dicionario[\"system\"][\"version\"])\n",
    "    port = dicionario[\"network\"][\"port\"]\n",
    "    print(port)\n",
    "with open(\"files/dicionario.json\", \"w\") as arquivo:\n",
    "    port += 1\n",
    "    dicionario[\"network\"][\"port\"] = port\n",
    "    json.dump(dicionario, arquivo, indent=4)"
   ]
  },
  {
   "cell_type": "markdown",
   "metadata": {},
   "source": [
    "3️⃣ Crie um programa que peça ao usuário um número e trate os erros de entrada inválida ou divisão por zero."
   ]
  },
  {
   "cell_type": "code",
   "execution_count": 35,
   "metadata": {},
   "outputs": [
    {
     "name": "stdout",
     "output_type": "stream",
     "text": [
      "Erro: Você deve digitar um número inteiro!\n",
      "Fim da execução.\n"
     ]
    }
   ],
   "source": [
    "try:\n",
    "    numero = int(input(\"Digite um número: \"))\n",
    "    print(10 / numero)\n",
    "except ValueError:\n",
    "    print(\"Erro: Você deve digitar um número inteiro!\")\n",
    "except ZeroDivisionError:\n",
    "    print(\"Erro: Não é possível dividir por zero!\")\n",
    "finally:\n",
    "    print(\"Fim da execução.\")"
   ]
  }
 ],
 "metadata": {
  "kernelspec": {
   "display_name": "Python 3",
   "language": "python",
   "name": "python3"
  },
  "language_info": {
   "codemirror_mode": {
    "name": "ipython",
    "version": 3
   },
   "file_extension": ".py",
   "mimetype": "text/x-python",
   "name": "python",
   "nbconvert_exporter": "python",
   "pygments_lexer": "ipython3",
   "version": "3.12.8"
  }
 },
 "nbformat": 4,
 "nbformat_minor": 2
}
