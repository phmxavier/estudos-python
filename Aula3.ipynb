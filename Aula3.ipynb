{
 "cells": [
  {
   "cell_type": "markdown",
   "metadata": {},
   "source": [
    "1️⃣ Crie uma classe Carro com atributos marca, modelo e ano. Adicione um método para exibir os dados do carro."
   ]
  },
  {
   "cell_type": "code",
   "execution_count": 1,
   "metadata": {},
   "outputs": [],
   "source": [
    "class Carro:\n",
    "    def __init__(self, marca, modelo, ano):\n",
    "        self._marca = marca\n",
    "        self._modelo = modelo\n",
    "        self._ano = ano\n",
    "    \n",
    "    def exibirDados(self):\n",
    "        print(f\"Marca: {self._marca}\")\n",
    "        print(f\"Modelo: {self._modelo}\")\n",
    "        print(f\"Ano: {self._ano}\")"
   ]
  },
  {
   "cell_type": "code",
   "execution_count": 2,
   "metadata": {},
   "outputs": [
    {
     "name": "stdout",
     "output_type": "stream",
     "text": [
      "Marca: Fiat\n",
      "Modelo: Uno\n",
      "Ano: 2010\n"
     ]
    }
   ],
   "source": [
    "carro = Carro(\"Fiat\", \"Uno\", 2010)\n",
    "carro.exibirDados()"
   ]
  },
  {
   "cell_type": "markdown",
   "metadata": {},
   "source": [
    "2️⃣ Modifique a classe ContaBancaria para que o método ver_saldo só seja acessado pelo próprio titular."
   ]
  },
  {
   "cell_type": "code",
   "execution_count": 11,
   "metadata": {},
   "outputs": [],
   "source": [
    "class ContaBancaria:\n",
    "    def __init__(self, titular, saldo):\n",
    "        self.titular = titular  # Público\n",
    "        self.__saldo = saldo  # Privado\n",
    "\n",
    "    def depositar(self, valor):\n",
    "        self.__saldo += valor\n",
    "\n",
    "    def ver_saldo(self, usuario):\n",
    "        if usuario == self.titular:\n",
    "            return self.__saldo\n",
    "        raise ValueError(\"Usuário não autorizado\")"
   ]
  },
  {
   "cell_type": "code",
   "execution_count": 12,
   "metadata": {},
   "outputs": [
    {
     "name": "stdout",
     "output_type": "stream",
     "text": [
      "1500\n",
      "Usuário não autorizado\n"
     ]
    }
   ],
   "source": [
    "conta = ContaBancaria(\"João\", 1000)\n",
    "conta.depositar(500)\n",
    "print(conta.ver_saldo(\"João\"))\n",
    "try:\n",
    "    print(conta.ver_saldo(\"Maurício\"))\n",
    "except ValueError as e:\n",
    "    print(e)"
   ]
  },
  {
   "cell_type": "markdown",
   "metadata": {},
   "source": [
    "\n",
    "3️⃣ Crie uma classe Funcionario e uma subclasse Gerente, que tenha um método adicional chamado aumentar_salario()."
   ]
  },
  {
   "cell_type": "code",
   "execution_count": 28,
   "metadata": {},
   "outputs": [],
   "source": [
    "class Funcionario:\n",
    "    def __init__(self, nome, salario):\n",
    "        self._nome = nome\n",
    "        self._salario = salario\n",
    "\n",
    "    def get_salario(self):\n",
    "        return self._salario\n",
    "    \n",
    "    def set_salario(self, salario):\n",
    "        self._salario = salario\n",
    "\n",
    "    def exibirDados(self):\n",
    "        print(f\"Nome: {self._nome}\")\n",
    "        print(f\"Salário: {self._salario}\")\n",
    "\n",
    "class Gerente(Funcionario):\n",
    "    def __init__(self, nome, salario):\n",
    "        super().__init__(nome, salario)\n",
    "    \n",
    "    def aumentar_salario(self, usuario, percentual):\n",
    "        novosalario = usuario.get_salario() * (1 + percentual / 100)\n",
    "        usuario.set_salario(novosalario) # Aumenta o salário do funcionário"
   ]
  },
  {
   "cell_type": "code",
   "execution_count": null,
   "metadata": {},
   "outputs": [
    {
     "name": "stdout",
     "output_type": "stream",
     "text": [
      "Nome: João\n",
      "Salário: 1000\n",
      "Nome: Maurício\n",
      "Salário: 1000\n"
     ]
    }
   ],
   "source": [
    "usuario = Funcionario(\"João\", 1000)\n",
    "usuario.exibirDados()\n",
    "\n",
    "gerente = Gerente(\"Maurício\", 2000)\n",
    "gerente.exibirDados()"
   ]
  },
  {
   "cell_type": "markdown",
   "metadata": {},
   "source": [
    "## 🎯 Desafio Extra\n",
    "### Crie um sistema de cadastro de funcionários!\n",
    "\n",
    "* Os funcionários têm nome, cargo e salário.\n",
    "* A classe Gerente pode dar um aumento para qualquer funcionário.\n",
    "* O sistema exibe uma lista com todos os funcionários cadastrados."
   ]
  },
  {
   "cell_type": "code",
   "execution_count": 30,
   "metadata": {},
   "outputs": [
    {
     "name": "stdout",
     "output_type": "stream",
     "text": [
      "Nome: João\n",
      "Salário: 1000\n",
      "Nome: Maurício\n",
      "Salário: 1000\n",
      "Nome: João\n",
      "Salário: 1100.0\n",
      "Nome: Maurício\n",
      "Salário: 1000\n"
     ]
    }
   ],
   "source": [
    "class Sistema:\n",
    "    def __init__(self, lista_funcionarios):\n",
    "        self._funcionarios = lista_funcionarios\n",
    "\n",
    "    def exibirFuncionarios(self):\n",
    "        for funcionario in self._funcionarios:\n",
    "            funcionario.exibirDados()\n",
    "\n",
    "sistema = Sistema([usuario, gerente])\n",
    "sistema.exibirFuncionarios()\n",
    "gerente.aumentar_salario(usuario, 10)\n",
    "sistema.exibirFuncionarios()"
   ]
  }
 ],
 "metadata": {
  "kernelspec": {
   "display_name": "Python 3",
   "language": "python",
   "name": "python3"
  },
  "language_info": {
   "codemirror_mode": {
    "name": "ipython",
    "version": 3
   },
   "file_extension": ".py",
   "mimetype": "text/x-python",
   "name": "python",
   "nbconvert_exporter": "python",
   "pygments_lexer": "ipython3",
   "version": "3.12.8"
  }
 },
 "nbformat": 4,
 "nbformat_minor": 2
}
