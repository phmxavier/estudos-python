{
 "cells": [
  {
   "cell_type": "markdown",
   "metadata": {},
   "source": [
    "## Crie um script que peça o nome e a idade do usuário e diga se ele é maior ou menor de idade."
   ]
  },
  {
   "cell_type": "code",
   "execution_count": 9,
   "metadata": {},
   "outputs": [
    {
     "name": "stdout",
     "output_type": "stream",
     "text": [
      "Olá, \n"
     ]
    }
   ],
   "source": [
    "nome = input(\"Digite seu nome: \")  # Entrada do usuário\n",
    "print(\"Olá,\", nome)  # Saída"
   ]
  },
  {
   "cell_type": "code",
   "execution_count": 10,
   "metadata": {},
   "outputs": [
    {
     "name": "stdout",
     "output_type": "stream",
     "text": [
      "Você tem  anos\n"
     ]
    }
   ],
   "source": [
    "idade = input(\"Digite sua idade: \")  # Entrada do usuário\n",
    "print(\"Você tem\", idade, \"anos\")  # Saída"
   ]
  },
  {
   "cell_type": "code",
   "execution_count": 11,
   "metadata": {},
   "outputs": [
    {
     "name": "stdout",
     "output_type": "stream",
     "text": [
      "Maior de idade\n"
     ]
    }
   ],
   "source": [
    "idade = 18\n",
    "if idade >= 18:\n",
    "    print(\"Maior de idade\")\n",
    "elif idade == 17:\n",
    "    print(\"Quase lá\")\n",
    "else:\n",
    "    print(\"Menor de idade\")"
   ]
  },
  {
   "cell_type": "markdown",
   "metadata": {},
   "source": [
    "## Escreva um programa que imprima os números de 1 a 10 usando um for."
   ]
  },
  {
   "cell_type": "code",
   "execution_count": 12,
   "metadata": {},
   "outputs": [
    {
     "name": "stdout",
     "output_type": "stream",
     "text": [
      "1\n",
      "2\n",
      "3\n",
      "4\n",
      "5\n",
      "6\n",
      "7\n",
      "8\n",
      "9\n",
      "10\n"
     ]
    }
   ],
   "source": [
    "for i in range(1,11):\n",
    "    print(i)"
   ]
  },
  {
   "cell_type": "markdown",
   "metadata": {},
   "source": [
    "## Crie um contador de 10 até 1 usando um while."
   ]
  },
  {
   "cell_type": "code",
   "execution_count": 13,
   "metadata": {},
   "outputs": [
    {
     "name": "stdout",
     "output_type": "stream",
     "text": [
      "10\n",
      "9\n",
      "8\n",
      "7\n",
      "6\n",
      "5\n",
      "4\n",
      "3\n",
      "2\n",
      "1\n"
     ]
    }
   ],
   "source": [
    "count = 10\n",
    "while count > 0:\n",
    "    print(count)\n",
    "    count -= 1"
   ]
  },
  {
   "cell_type": "markdown",
   "metadata": {},
   "source": [
    "## Crie um jogo simples de adivinhação de número!\n",
    "\n",
    "* O programa escolhe um número aleatório entre 1 e 10.\n",
    "* O usuário tenta adivinhar até acertar.\n",
    "* O programa informa se o palpite foi maior ou menor.\n",
    "\n",
    "**Dica: use import random para gerar números aleatórios.**"
   ]
  },
  {
   "cell_type": "code",
   "execution_count": 15,
   "metadata": {},
   "outputs": [
    {
     "name": "stdout",
     "output_type": "stream",
     "text": [
      "Tente um número maior\n",
      "Você acertou! O número era 8\n"
     ]
    }
   ],
   "source": [
    "import random\n",
    "numero = random.randint(1, 10)\n",
    "while True:\n",
    "    chute = int(input(\"Digite um número entre 1 e 10: \"))\n",
    "    if chute == numero:\n",
    "        print(\"Você acertou! O número era\", numero)\n",
    "        break\n",
    "    else:\n",
    "        if chute < numero:\n",
    "            print(\"Tente um número maior\")\n",
    "        else:\n",
    "            print(\"Tente um número menor\")"
   ]
  }
 ],
 "metadata": {
  "kernelspec": {
   "display_name": "Python 3",
   "language": "python",
   "name": "python3"
  },
  "language_info": {
   "codemirror_mode": {
    "name": "ipython",
    "version": 3
   },
   "file_extension": ".py",
   "mimetype": "text/x-python",
   "name": "python",
   "nbconvert_exporter": "python",
   "pygments_lexer": "ipython3",
   "version": "3.12.8"
  }
 },
 "nbformat": 4,
 "nbformat_minor": 2
}
