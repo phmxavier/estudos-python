{
 "cells": [
  {
   "cell_type": "markdown",
   "metadata": {},
   "source": [
    "## 1️⃣ Programação Funcional em Python\n",
    "### Funções de Alta Ordem\n",
    "Uma função pode receber outra função como argumento:"
   ]
  },
  {
   "cell_type": "code",
   "execution_count": 1,
   "metadata": {},
   "outputs": [
    {
     "name": "stdout",
     "output_type": "stream",
     "text": [
      "10\n"
     ]
    }
   ],
   "source": [
    "def aplicar_operacao(x, operacao):\n",
    "    return operacao(x)\n",
    "\n",
    "dobro = lambda x: x * 2\n",
    "print(aplicar_operacao(5, dobro))  # Saída: 10"
   ]
  },
  {
   "cell_type": "markdown",
   "metadata": {},
   "source": [
    "``` map() ``` – Aplicando uma Função a uma Lista"
   ]
  },
  {
   "cell_type": "code",
   "execution_count": 3,
   "metadata": {},
   "outputs": [
    {
     "name": "stdout",
     "output_type": "stream",
     "text": [
      "[1, 4, 9, 16, 25]\n"
     ]
    }
   ],
   "source": [
    "numeros = [1, 2, 3, 4, 5]\n",
    "quadrados = list(map(lambda x: x**2, numeros))\n",
    "print(quadrados)  # [1, 4, 9, 16, 25]"
   ]
  },
  {
   "cell_type": "markdown",
   "metadata": {},
   "source": [
    "```filter()``` – Filtrando Elementos"
   ]
  },
  {
   "cell_type": "code",
   "execution_count": 4,
   "metadata": {},
   "outputs": [
    {
     "name": "stdout",
     "output_type": "stream",
     "text": [
      "[2, 4]\n"
     ]
    }
   ],
   "source": [
    "pares = list(filter(lambda x: x % 2 == 0, numeros))\n",
    "print(pares) "
   ]
  },
  {
   "cell_type": "markdown",
   "metadata": {},
   "source": [
    "```reduce()``` – Reduzindo uma Lista a um Único Valor"
   ]
  },
  {
   "cell_type": "code",
   "execution_count": 5,
   "metadata": {},
   "outputs": [
    {
     "name": "stdout",
     "output_type": "stream",
     "text": [
      "15\n"
     ]
    }
   ],
   "source": [
    "from functools import reduce\n",
    "soma = reduce(lambda x, y: x + y, numeros)\n",
    "print(soma)"
   ]
  },
  {
   "cell_type": "markdown",
   "metadata": {},
   "source": [
    "## 2️⃣ Multithreading: Execução Concorrente\n",
    "\n",
    "O Python permite rodar várias tarefas ao mesmo tempo com multithreading e multiprocessing.\n",
    "\n",
    "### Criando Threads"
   ]
  },
  {
   "cell_type": "code",
   "execution_count": 6,
   "metadata": {},
   "outputs": [
    {
     "name": "stdout",
     "output_type": "stream",
     "text": [
      "Executando uma tarefa em uma thread!\n"
     ]
    }
   ],
   "source": [
    "import threading\n",
    "\n",
    "def tarefa():\n",
    "    print(\"Executando uma tarefa em uma thread!\")\n",
    "\n",
    "thread = threading.Thread(target=tarefa)\n",
    "thread.start()\n",
    "thread.join()  # Aguarda a thread terminar"
   ]
  },
  {
   "cell_type": "markdown",
   "metadata": {},
   "source": [
    "### Executando Múltiplas Threads"
   ]
  },
  {
   "cell_type": "code",
   "execution_count": 9,
   "metadata": {},
   "outputs": [
    {
     "name": "stdout",
     "output_type": "stream",
     "text": [
      "Contando até 5\n",
      "1\n",
      "Contando até 3\n",
      "1\n",
      "2\n",
      "2\n",
      "3\n",
      "3\n",
      "4\n",
      "5\n",
      "T1 terminou!\n",
      "Todas as threads terminaram!\n"
     ]
    }
   ],
   "source": [
    "import time\n",
    "\n",
    "def contar(numero):\n",
    "    print(\"Contando até\", numero)\n",
    "    for i in range(1, numero + 1):\n",
    "        print(i)\n",
    "        time.sleep(1)\n",
    "\n",
    "t1 = threading.Thread(target=contar, args=(5,))\n",
    "t2 = threading.Thread(target=contar, args=(3,))\n",
    "\n",
    "t1.start()\n",
    "t2.start()\n",
    "\n",
    "t1.join()\n",
    "print(\"T1 terminou!\")\n",
    "t2.join()\n",
    "\n",
    "print(\"Todas as threads terminaram!\")"
   ]
  },
  {
   "cell_type": "markdown",
   "metadata": {},
   "source": [
    "## 📌 Exercícios Práticos\n",
    "\n",
    "1️⃣ Use ```map()``` para converter uma lista de temperaturas em Celsius para Fahrenheit."
   ]
  },
  {
   "cell_type": "code",
   "execution_count": 10,
   "metadata": {},
   "outputs": [
    {
     "name": "stdout",
     "output_type": "stream",
     "text": [
      "[32.0, 53.6, 93.2, 212.0]\n"
     ]
    }
   ],
   "source": [
    "c_temperatures = [0, 12, 34, 100]\n",
    "f_temperatures = list(map(lambda c: (9/5) * c + 32, c_temperatures))\n",
    "print(f_temperatures)"
   ]
  },
  {
   "cell_type": "markdown",
   "metadata": {},
   "source": [
    "\n",
    "2️⃣ Crie uma função que receba uma lista de palavras e retorne apenas as que têm mais de 5 letras usando ```filter()```."
   ]
  },
  {
   "cell_type": "code",
   "execution_count": 12,
   "metadata": {},
   "outputs": [
    {
     "name": "stdout",
     "output_type": "stream",
     "text": [
      "['banana', 'morango', 'abacaxi']\n"
     ]
    }
   ],
   "source": [
    "palavras = [\"uva\", \"pera\", \"mamão\", \"banana\", \"morango\", \"abacaxi\"]\n",
    "filtered = list(filter(lambda word: len(word)>5, palavras))\n",
    "print(filtered)"
   ]
  },
  {
   "cell_type": "markdown",
   "metadata": {},
   "source": [
    "\n",
    "3️⃣ Crie um programa que execute duas threads simultaneamente: uma imprime números de 1 a 5 e outra imprime letras de A a E."
   ]
  },
  {
   "cell_type": "code",
   "execution_count": 14,
   "metadata": {},
   "outputs": [
    {
     "name": "stdout",
     "output_type": "stream",
     "text": [
      "1\n",
      "A\n",
      "2\n",
      "B\n",
      "3\n",
      "C\n",
      "4\n",
      "D\n",
      "5\n",
      "E\n"
     ]
    }
   ],
   "source": [
    "numeros = [1,2,3,4,5]\n",
    "letras = [\"A\", \"B\", \"C\", \"D\", \"E\"]\n",
    "\n",
    "def imprimir(lista):\n",
    "    for i in lista:\n",
    "        print(i)\n",
    "        time.sleep(1)\n",
    "\n",
    "thread1 = threading.Thread(target=imprimir, args=(numeros,))\n",
    "thread2 = threading.Thread(target=imprimir, args=(letras,))\n",
    "\n",
    "thread1.start()\n",
    "thread2.start()\n",
    "\n",
    "thread1.join()\n",
    "thread2.join()"
   ]
  },
  {
   "cell_type": "markdown",
   "metadata": {},
   "source": [
    "### 🎯 Desafio Extra\n",
    "\n",
    "Crie um sistema de downloads simultâneos!\n",
    "\n",
    "* O programa baixa múltiplos arquivos da internet usando threads.\n",
    "* Exibe o tempo total de execução.\n",
    "* Dica: use requests e threading."
   ]
  },
  {
   "cell_type": "code",
   "execution_count": 23,
   "metadata": {},
   "outputs": [],
   "source": [
    "import os\n",
    "import requests\n",
    "\n",
    "images_urls = {\n",
    "    \"python_logo.svg\": \"https://upload.wikimedia.org/wikipedia/commons/c/c3/Python-logo-notext.svg\",\n",
    "    \"python_community_logo.png\": \"https://1000logos.net/wp-content/uploads/2020/08/Python-Logo.png\",\n",
    "    \"python_icon.png\": \"https://brandslogos.com/wp-content/uploads/images/large/python-logo-black-and-white.png\"\n",
    "}\n",
    "\n",
    "threads = []\n",
    "def apagar_arquivos():\n",
    "    pasta = \"images/\"\n",
    "    for arquivo in os.listdir(pasta):\n",
    "        caminho_arquivo = os.path.join(pasta, arquivo)\n",
    "        if os.path.isfile(caminho_arquivo):\n",
    "            os.remove(caminho_arquivo)\n",
    "\n",
    "def baixar_imagem(url, nome_imagem):\n",
    "    response = requests.get(url, stream=True)\n",
    "    with open(\"images/\"+ nome_imagem, 'wb') as out_file:\n",
    "        for chunk in response.iter_content(chunk_size=8192):\n",
    "            out_file.write(chunk)\n",
    "    del response\n",
    "\n",
    "def iniciar_threads():\n",
    "    for nome, url in images_urls.items():\n",
    "        thread = threading.Thread(target=baixar_imagem, args=(url, nome))\n",
    "        threads.append(thread)\n",
    "        thread.start()\n",
    "\n",
    "    for thread in threads:\n",
    "        thread.join()\n",
    "\n",
    "apagar_arquivos()\n",
    "\n",
    "iniciar_threads()\n"
   ]
  }
 ],
 "metadata": {
  "kernelspec": {
   "display_name": "Python 3",
   "language": "python",
   "name": "python3"
  },
  "language_info": {
   "codemirror_mode": {
    "name": "ipython",
    "version": 3
   },
   "file_extension": ".py",
   "mimetype": "text/x-python",
   "name": "python",
   "nbconvert_exporter": "python",
   "pygments_lexer": "ipython3",
   "version": "3.12.8"
  }
 },
 "nbformat": 4,
 "nbformat_minor": 2
}
